{
 "cells": [
  {
   "cell_type": "code",
   "execution_count": 2,
   "metadata": {
    "collapsed": true
   },
   "outputs": [],
   "source": [
    "import numpy as np\n",
    "import pandas as pd\n"
   ]
  },
  {
   "cell_type": "code",
   "execution_count": 3,
   "metadata": {
    "collapsed": true
   },
   "outputs": [],
   "source": [
    "single_participants_data = pd.read_excel(\"data/nancy_sus/p1.xlsx\")"
   ]
  },
  {
   "cell_type": "code",
   "execution_count": 9,
   "metadata": {
    "collapsed": true
   },
   "outputs": [],
   "source": [
    "eye_tracked = single_participants_data.EYE_TRACKED[0]"
   ]
  },
  {
   "cell_type": "code",
   "execution_count": 10,
   "metadata": {},
   "outputs": [
    {
     "data": {
      "text/html": [
       "<div>\n",
       "<style>\n",
       "    .dataframe thead tr:only-child th {\n",
       "        text-align: right;\n",
       "    }\n",
       "\n",
       "    .dataframe thead th {\n",
       "        text-align: left;\n",
       "    }\n",
       "\n",
       "    .dataframe tbody tr th {\n",
       "        vertical-align: top;\n",
       "    }\n",
       "</style>\n",
       "<table border=\"1\" class=\"dataframe\">\n",
       "  <thead>\n",
       "    <tr style=\"text-align: right;\">\n",
       "      <th></th>\n",
       "      <th>RECORDING_SESSION_LABEL</th>\n",
       "      <th>TRIAL_INDEX</th>\n",
       "      <th>EYE_TRACKED</th>\n",
       "      <th>LEFT_PUPIL_SIZE</th>\n",
       "      <th>RIGHT_PUPIL_SIZE</th>\n",
       "      <th>SAMPLE_MESSAGE</th>\n",
       "      <th>TIMESTAMP</th>\n",
       "      <th>sound</th>\n",
       "      <th>system</th>\n",
       "    </tr>\n",
       "  </thead>\n",
       "  <tbody>\n",
       "    <tr>\n",
       "      <th>0</th>\n",
       "      <td>p1</td>\n",
       "      <td>1</td>\n",
       "      <td>Right</td>\n",
       "      <td>.</td>\n",
       "      <td>541</td>\n",
       "      <td>DISPLAY_SCREEN[1] BLOCK.TRIAL.DISPLAY_SCREEN[1...</td>\n",
       "      <td>9772270</td>\n",
       "      <td>news_2011_0001.wav</td>\n",
       "      <td>P</td>\n",
       "    </tr>\n",
       "    <tr>\n",
       "      <th>1</th>\n",
       "      <td>p1</td>\n",
       "      <td>1</td>\n",
       "      <td>Right</td>\n",
       "      <td>.</td>\n",
       "      <td>541</td>\n",
       "      <td>.</td>\n",
       "      <td>9772272</td>\n",
       "      <td>news_2011_0001.wav</td>\n",
       "      <td>P</td>\n",
       "    </tr>\n",
       "    <tr>\n",
       "      <th>2</th>\n",
       "      <td>p1</td>\n",
       "      <td>1</td>\n",
       "      <td>Right</td>\n",
       "      <td>.</td>\n",
       "      <td>541</td>\n",
       "      <td>.</td>\n",
       "      <td>9772274</td>\n",
       "      <td>news_2011_0001.wav</td>\n",
       "      <td>P</td>\n",
       "    </tr>\n",
       "    <tr>\n",
       "      <th>3</th>\n",
       "      <td>p1</td>\n",
       "      <td>1</td>\n",
       "      <td>Right</td>\n",
       "      <td>.</td>\n",
       "      <td>542</td>\n",
       "      <td>.</td>\n",
       "      <td>9772276</td>\n",
       "      <td>news_2011_0001.wav</td>\n",
       "      <td>P</td>\n",
       "    </tr>\n",
       "    <tr>\n",
       "      <th>4</th>\n",
       "      <td>p1</td>\n",
       "      <td>1</td>\n",
       "      <td>Right</td>\n",
       "      <td>.</td>\n",
       "      <td>543</td>\n",
       "      <td>.</td>\n",
       "      <td>9772278</td>\n",
       "      <td>news_2011_0001.wav</td>\n",
       "      <td>P</td>\n",
       "    </tr>\n",
       "  </tbody>\n",
       "</table>\n",
       "</div>"
      ],
      "text/plain": [
       "  RECORDING_SESSION_LABEL  TRIAL_INDEX EYE_TRACKED LEFT_PUPIL_SIZE  \\\n",
       "0                      p1            1       Right               .   \n",
       "1                      p1            1       Right               .   \n",
       "2                      p1            1       Right               .   \n",
       "3                      p1            1       Right               .   \n",
       "4                      p1            1       Right               .   \n",
       "\n",
       "  RIGHT_PUPIL_SIZE                                     SAMPLE_MESSAGE  \\\n",
       "0              541  DISPLAY_SCREEN[1] BLOCK.TRIAL.DISPLAY_SCREEN[1...   \n",
       "1              541                                                  .   \n",
       "2              541                                                  .   \n",
       "3              542                                                  .   \n",
       "4              543                                                  .   \n",
       "\n",
       "   TIMESTAMP               sound system  \n",
       "0    9772270  news_2011_0001.wav      P  \n",
       "1    9772272  news_2011_0001.wav      P  \n",
       "2    9772274  news_2011_0001.wav      P  \n",
       "3    9772276  news_2011_0001.wav      P  \n",
       "4    9772278  news_2011_0001.wav      P  "
      ]
     },
     "execution_count": 10,
     "metadata": {},
     "output_type": "execute_result"
    }
   ],
   "source": [
    "single_participants_data.head()"
   ]
  },
  {
   "cell_type": "code",
   "execution_count": 11,
   "metadata": {
    "collapsed": true
   },
   "outputs": [],
   "source": [
    "if eye_tracked == 'Right':\n",
    "    pupil_size = single_participants_data.RIGHT_PUPIL_SIZE\n",
    "else:\n",
    "    pupil_size = single_participants_data.LEFT_PUPIL_SIZE"
   ]
  },
  {
   "cell_type": "code",
   "execution_count": 13,
   "metadata": {
    "collapsed": true
   },
   "outputs": [],
   "source": [
    "stimuli = single_participants_data.sound"
   ]
  },
  {
   "cell_type": "code",
   "execution_count": 14,
   "metadata": {
    "collapsed": true
   },
   "outputs": [],
   "source": [
    "trial_index = single_participants_data.TRIAL_INDEX"
   ]
  },
  {
   "cell_type": "code",
   "execution_count": 15,
   "metadata": {
    "collapsed": true
   },
   "outputs": [],
   "source": [
    "system = single_participants_data.system"
   ]
  },
  {
   "cell_type": "code",
   "execution_count": 45,
   "metadata": {
    "collapsed": true
   },
   "outputs": [],
   "source": [
    "df = pd.DataFrame(data=trial_index)\n",
    "df['PUPIL_SIZE'] = pupil_size\n",
    "df['STIMULI']=stimuli\n",
    "df['SYSTEMS']=system"
   ]
  },
  {
   "cell_type": "code",
   "execution_count": 46,
   "metadata": {},
   "outputs": [
    {
     "data": {
      "text/html": [
       "<div>\n",
       "<style>\n",
       "    .dataframe thead tr:only-child th {\n",
       "        text-align: right;\n",
       "    }\n",
       "\n",
       "    .dataframe thead th {\n",
       "        text-align: left;\n",
       "    }\n",
       "\n",
       "    .dataframe tbody tr th {\n",
       "        vertical-align: top;\n",
       "    }\n",
       "</style>\n",
       "<table border=\"1\" class=\"dataframe\">\n",
       "  <thead>\n",
       "    <tr style=\"text-align: right;\">\n",
       "      <th></th>\n",
       "      <th>TRIAL_INDEX</th>\n",
       "      <th>PUPIL_SIZE</th>\n",
       "      <th>STIMULI</th>\n",
       "      <th>SYSTEMS</th>\n",
       "    </tr>\n",
       "  </thead>\n",
       "  <tbody>\n",
       "    <tr>\n",
       "      <th>0</th>\n",
       "      <td>1</td>\n",
       "      <td>541</td>\n",
       "      <td>news_2011_0001.wav</td>\n",
       "      <td>P</td>\n",
       "    </tr>\n",
       "    <tr>\n",
       "      <th>1</th>\n",
       "      <td>1</td>\n",
       "      <td>541</td>\n",
       "      <td>news_2011_0001.wav</td>\n",
       "      <td>P</td>\n",
       "    </tr>\n",
       "    <tr>\n",
       "      <th>2</th>\n",
       "      <td>1</td>\n",
       "      <td>541</td>\n",
       "      <td>news_2011_0001.wav</td>\n",
       "      <td>P</td>\n",
       "    </tr>\n",
       "    <tr>\n",
       "      <th>3</th>\n",
       "      <td>1</td>\n",
       "      <td>542</td>\n",
       "      <td>news_2011_0001.wav</td>\n",
       "      <td>P</td>\n",
       "    </tr>\n",
       "    <tr>\n",
       "      <th>4</th>\n",
       "      <td>1</td>\n",
       "      <td>543</td>\n",
       "      <td>news_2011_0001.wav</td>\n",
       "      <td>P</td>\n",
       "    </tr>\n",
       "  </tbody>\n",
       "</table>\n",
       "</div>"
      ],
      "text/plain": [
       "   TRIAL_INDEX PUPIL_SIZE             STIMULI SYSTEMS\n",
       "0            1        541  news_2011_0001.wav       P\n",
       "1            1        541  news_2011_0001.wav       P\n",
       "2            1        541  news_2011_0001.wav       P\n",
       "3            1        542  news_2011_0001.wav       P\n",
       "4            1        543  news_2011_0001.wav       P"
      ]
     },
     "execution_count": 46,
     "metadata": {},
     "output_type": "execute_result"
    }
   ],
   "source": [
    "df.head()"
   ]
  },
  {
   "cell_type": "code",
   "execution_count": 60,
   "metadata": {
    "collapsed": true
   },
   "outputs": [],
   "source": [
    "df['BLOCKS'] = pd.factorize(df['SYSTEMS'])[0] + 1\n",
    "    \n",
    "df = df.drop(labels='ORDERING', axis='columns')"
   ]
  },
  {
   "cell_type": "code",
   "execution_count": 98,
   "metadata": {
    "collapsed": true
   },
   "outputs": [],
   "source": [
    "remove_practice = df[(df['BLOCKS'] > 1)].copy()\n",
    "remove_practice.head()\n",
    "\n",
    "discardTrials = [1,2, 3, 21,22,23,41,42,43,61,62,63,81,82,83]\n",
    "practiceTrials = 5\n",
    "\n",
    "\n",
    "\n",
    "updated_indexes = remove_practice['TRIAL_INDEX'] - practiceTrials\n",
    "remove_practice['TRIAL_INDEX'] = updated_indexes\n",
    "\n",
    "updated_block_indexes = remove_practice['BLOCKS'] - 1\n",
    "remove_practice['BLOCKS'] = updated_block_indexes"
   ]
  },
  {
   "cell_type": "code",
   "execution_count": 99,
   "metadata": {},
   "outputs": [
    {
     "data": {
      "text/html": [
       "<div>\n",
       "<style>\n",
       "    .dataframe thead tr:only-child th {\n",
       "        text-align: right;\n",
       "    }\n",
       "\n",
       "    .dataframe thead th {\n",
       "        text-align: left;\n",
       "    }\n",
       "\n",
       "    .dataframe tbody tr th {\n",
       "        vertical-align: top;\n",
       "    }\n",
       "</style>\n",
       "<table border=\"1\" class=\"dataframe\">\n",
       "  <thead>\n",
       "    <tr style=\"text-align: right;\">\n",
       "      <th></th>\n",
       "      <th>TRIAL_INDEX</th>\n",
       "      <th>PUPIL_SIZE</th>\n",
       "      <th>STIMULI</th>\n",
       "      <th>SYSTEMS</th>\n",
       "      <th>BLOCKS</th>\n",
       "    </tr>\n",
       "  </thead>\n",
       "  <tbody>\n",
       "    <tr>\n",
       "      <th>397279</th>\n",
       "      <td>100</td>\n",
       "      <td>236</td>\n",
       "      <td>sus_2011_0097_E.wav</td>\n",
       "      <td>E</td>\n",
       "      <td>5</td>\n",
       "    </tr>\n",
       "    <tr>\n",
       "      <th>397280</th>\n",
       "      <td>100</td>\n",
       "      <td>236</td>\n",
       "      <td>sus_2011_0097_E.wav</td>\n",
       "      <td>E</td>\n",
       "      <td>5</td>\n",
       "    </tr>\n",
       "    <tr>\n",
       "      <th>397281</th>\n",
       "      <td>100</td>\n",
       "      <td>236</td>\n",
       "      <td>sus_2011_0097_E.wav</td>\n",
       "      <td>E</td>\n",
       "      <td>5</td>\n",
       "    </tr>\n",
       "    <tr>\n",
       "      <th>397282</th>\n",
       "      <td>100</td>\n",
       "      <td>236</td>\n",
       "      <td>sus_2011_0097_E.wav</td>\n",
       "      <td>E</td>\n",
       "      <td>5</td>\n",
       "    </tr>\n",
       "    <tr>\n",
       "      <th>397283</th>\n",
       "      <td>100</td>\n",
       "      <td>236</td>\n",
       "      <td>sus_2011_0097_E.wav</td>\n",
       "      <td>E</td>\n",
       "      <td>5</td>\n",
       "    </tr>\n",
       "  </tbody>\n",
       "</table>\n",
       "</div>"
      ],
      "text/plain": [
       "        TRIAL_INDEX PUPIL_SIZE              STIMULI SYSTEMS  BLOCKS\n",
       "397279          100        236  sus_2011_0097_E.wav       E       5\n",
       "397280          100        236  sus_2011_0097_E.wav       E       5\n",
       "397281          100        236  sus_2011_0097_E.wav       E       5\n",
       "397282          100        236  sus_2011_0097_E.wav       E       5\n",
       "397283          100        236  sus_2011_0097_E.wav       E       5"
      ]
     },
     "execution_count": 99,
     "metadata": {},
     "output_type": "execute_result"
    }
   ],
   "source": [
    "remove_practice.tail()"
   ]
  },
  {
   "cell_type": "code",
   "execution_count": 100,
   "metadata": {},
   "outputs": [
    {
     "data": {
      "text/plain": [
       "array([  4,   5,   6,   7,   8,   9,  10,  11,  12,  13,  14,  15,  16,\n",
       "        17,  18,  19,  20,  24,  25,  26,  27,  28,  29,  30,  31,  32,\n",
       "        33,  34,  35,  36,  37,  38,  39,  40,  44,  45,  46,  47,  48,\n",
       "        49,  50,  51,  52,  53,  54,  55,  56,  57,  58,  59,  60,  64,\n",
       "        65,  66,  67,  68,  69,  70,  71,  72,  73,  74,  75,  76,  77,\n",
       "        78,  79,  80,  84,  85,  86,  87,  88,  89,  90,  91,  92,  93,\n",
       "        94,  95,  96,  97,  98,  99, 100])"
      ]
     },
     "execution_count": 100,
     "metadata": {},
     "output_type": "execute_result"
    }
   ],
   "source": [
    "\n",
    "remove_practice = remove_practice[remove_practice['TRIAL_INDEX'].isin(discardTrials) == False]\n",
    "\n",
    "remove_practice.TRIAL_INDEX.unique()"
   ]
  },
  {
   "cell_type": "markdown",
   "metadata": {},
   "source": [
    "\n",
    "\n",
    "\n",
    "\n",
    "\n"
   ]
  },
  {
   "cell_type": "code",
   "execution_count": 102,
   "metadata": {
    "collapsed": true
   },
   "outputs": [],
   "source": [
    "remove_practice['SUBJECT'] = 1"
   ]
  },
  {
   "cell_type": "code",
   "execution_count": 103,
   "metadata": {},
   "outputs": [
    {
     "data": {
      "text/html": [
       "<div>\n",
       "<style>\n",
       "    .dataframe thead tr:only-child th {\n",
       "        text-align: right;\n",
       "    }\n",
       "\n",
       "    .dataframe thead th {\n",
       "        text-align: left;\n",
       "    }\n",
       "\n",
       "    .dataframe tbody tr th {\n",
       "        vertical-align: top;\n",
       "    }\n",
       "</style>\n",
       "<table border=\"1\" class=\"dataframe\">\n",
       "  <thead>\n",
       "    <tr style=\"text-align: right;\">\n",
       "      <th></th>\n",
       "      <th>TRIAL_INDEX</th>\n",
       "      <th>PUPIL_SIZE</th>\n",
       "      <th>STIMULI</th>\n",
       "      <th>SYSTEMS</th>\n",
       "      <th>BLOCKS</th>\n",
       "      <th>SUBJECT</th>\n",
       "    </tr>\n",
       "  </thead>\n",
       "  <tbody>\n",
       "    <tr>\n",
       "      <th>30276</th>\n",
       "      <td>4</td>\n",
       "      <td>271</td>\n",
       "      <td>sus_2011_0004_I.wav</td>\n",
       "      <td>I</td>\n",
       "      <td>1</td>\n",
       "      <td>1</td>\n",
       "    </tr>\n",
       "    <tr>\n",
       "      <th>30277</th>\n",
       "      <td>4</td>\n",
       "      <td>271</td>\n",
       "      <td>sus_2011_0004_I.wav</td>\n",
       "      <td>I</td>\n",
       "      <td>1</td>\n",
       "      <td>1</td>\n",
       "    </tr>\n",
       "    <tr>\n",
       "      <th>30278</th>\n",
       "      <td>4</td>\n",
       "      <td>271</td>\n",
       "      <td>sus_2011_0004_I.wav</td>\n",
       "      <td>I</td>\n",
       "      <td>1</td>\n",
       "      <td>1</td>\n",
       "    </tr>\n",
       "    <tr>\n",
       "      <th>30279</th>\n",
       "      <td>4</td>\n",
       "      <td>271</td>\n",
       "      <td>sus_2011_0004_I.wav</td>\n",
       "      <td>I</td>\n",
       "      <td>1</td>\n",
       "      <td>1</td>\n",
       "    </tr>\n",
       "    <tr>\n",
       "      <th>30280</th>\n",
       "      <td>4</td>\n",
       "      <td>271</td>\n",
       "      <td>sus_2011_0004_I.wav</td>\n",
       "      <td>I</td>\n",
       "      <td>1</td>\n",
       "      <td>1</td>\n",
       "    </tr>\n",
       "  </tbody>\n",
       "</table>\n",
       "</div>"
      ],
      "text/plain": [
       "       TRIAL_INDEX PUPIL_SIZE              STIMULI SYSTEMS  BLOCKS  SUBJECT\n",
       "30276            4        271  sus_2011_0004_I.wav       I       1        1\n",
       "30277            4        271  sus_2011_0004_I.wav       I       1        1\n",
       "30278            4        271  sus_2011_0004_I.wav       I       1        1\n",
       "30279            4        271  sus_2011_0004_I.wav       I       1        1\n",
       "30280            4        271  sus_2011_0004_I.wav       I       1        1"
      ]
     },
     "execution_count": 103,
     "metadata": {},
     "output_type": "execute_result"
    }
   ],
   "source": [
    "remove_practice.head()"
   ]
  },
  {
   "cell_type": "code",
   "execution_count": 13,
   "metadata": {},
   "outputs": [
    {
     "name": "stdout",
     "output_type": "stream",
     "text": [
      "p1\n",
      "p2\n",
      "p3\n",
      "p4\n",
      "p5\n",
      "p6\n",
      "p7\n",
      "p8\n",
      "p9\n",
      "p10\n",
      "p11\n",
      "p12\n",
      "p13\n",
      "p14\n"
     ]
    }
   ],
   "source": [
    "file_pattern='p'\n",
    "file_indexes = []\n",
    "for n in range(1,15):\n",
    "    index=file_pattern+str(n)\n",
    "    file_indexes.append(index)\n",
    "\n",
    "for n in file_indexes:\n",
    "    print(n)"
   ]
  },
  {
   "cell_type": "code",
   "execution_count": null,
   "metadata": {
    "collapsed": true
   },
   "outputs": [],
   "source": []
  }
 ],
 "metadata": {
  "celltoolbar": "Raw Cell Format",
  "kernelspec": {
   "display_name": "Python 3",
   "language": "python",
   "name": "python3"
  },
  "language_info": {
   "codemirror_mode": {
    "name": "ipython",
    "version": 3
   },
   "file_extension": ".py",
   "mimetype": "text/x-python",
   "name": "python",
   "nbconvert_exporter": "python",
   "pygments_lexer": "ipython3",
   "version": "3.6.1"
  }
 },
 "nbformat": 4,
 "nbformat_minor": 2
}
