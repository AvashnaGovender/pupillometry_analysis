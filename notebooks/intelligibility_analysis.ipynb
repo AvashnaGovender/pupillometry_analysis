{
 "cells": [
  {
   "cell_type": "code",
   "execution_count": 152,
   "metadata": {
    "collapsed": true
   },
   "outputs": [],
   "source": [
    "import pandas as pd"
   ]
  },
  {
   "cell_type": "code",
   "execution_count": 153,
   "metadata": {
    "collapsed": true
   },
   "outputs": [],
   "source": [
    "mydata = pd.read_csv(\"../data/nancy_sus/transcripts/p1_output.csv\", sep = \"|\")"
   ]
  },
  {
   "cell_type": "code",
   "execution_count": 154,
   "metadata": {},
   "outputs": [
    {
     "data": {
      "text/html": [
       "<div>\n",
       "<style>\n",
       "    .dataframe thead tr:only-child th {\n",
       "        text-align: right;\n",
       "    }\n",
       "\n",
       "    .dataframe thead th {\n",
       "        text-align: left;\n",
       "    }\n",
       "\n",
       "    .dataframe tbody tr th {\n",
       "        vertical-align: top;\n",
       "    }\n",
       "</style>\n",
       "<table border=\"1\" class=\"dataframe\">\n",
       "  <thead>\n",
       "    <tr style=\"text-align: right;\">\n",
       "      <th></th>\n",
       "      <th>result_2011_0001</th>\n",
       "      <th>result_2011_0002</th>\n",
       "      <th>result_2011_0003</th>\n",
       "      <th>result_2011_0004</th>\n",
       "      <th>result_2011_0005</th>\n",
       "      <th>result_2011_0016</th>\n",
       "      <th>result_2011_0020</th>\n",
       "      <th>result_2011_0010</th>\n",
       "      <th>result_2011_0008</th>\n",
       "      <th>result_2011_0015</th>\n",
       "      <th>...</th>\n",
       "      <th>result_2011_0087</th>\n",
       "      <th>result_2011_0100</th>\n",
       "      <th>result_2011_0096</th>\n",
       "      <th>result_2011_0098</th>\n",
       "      <th>result_2011_0091</th>\n",
       "      <th>result_2011_0089</th>\n",
       "      <th>result_2011_0093</th>\n",
       "      <th>result_2011_0099</th>\n",
       "      <th>result_2011_0097</th>\n",
       "      <th>Unnamed: 100</th>\n",
       "    </tr>\n",
       "  </thead>\n",
       "  <tbody>\n",
       "    <tr>\n",
       "      <th>0</th>\n",
       "      <td>0.0</td>\n",
       "      <td>0.143</td>\n",
       "      <td>0.0</td>\n",
       "      <td>0.0</td>\n",
       "      <td>0.0</td>\n",
       "      <td>0.0</td>\n",
       "      <td>0.0</td>\n",
       "      <td>0.0</td>\n",
       "      <td>0.0</td>\n",
       "      <td>0.0</td>\n",
       "      <td>...</td>\n",
       "      <td>0.0</td>\n",
       "      <td>0.0</td>\n",
       "      <td>0.0</td>\n",
       "      <td>0.0</td>\n",
       "      <td>0.0</td>\n",
       "      <td>0.0</td>\n",
       "      <td>0.0</td>\n",
       "      <td>0.0</td>\n",
       "      <td>0.0</td>\n",
       "      <td>NaN</td>\n",
       "    </tr>\n",
       "  </tbody>\n",
       "</table>\n",
       "<p>1 rows × 101 columns</p>\n",
       "</div>"
      ],
      "text/plain": [
       "   result_2011_0001  result_2011_0002  result_2011_0003  result_2011_0004  \\\n",
       "0               0.0             0.143               0.0               0.0   \n",
       "\n",
       "   result_2011_0005  result_2011_0016  result_2011_0020  result_2011_0010  \\\n",
       "0               0.0               0.0               0.0               0.0   \n",
       "\n",
       "   result_2011_0008  result_2011_0015      ...       result_2011_0087  \\\n",
       "0               0.0               0.0      ...                    0.0   \n",
       "\n",
       "   result_2011_0100  result_2011_0096  result_2011_0098  result_2011_0091  \\\n",
       "0               0.0               0.0               0.0               0.0   \n",
       "\n",
       "   result_2011_0089  result_2011_0093  result_2011_0099  result_2011_0097  \\\n",
       "0               0.0               0.0               0.0               0.0   \n",
       "\n",
       "   Unnamed: 100  \n",
       "0           NaN  \n",
       "\n",
       "[1 rows x 101 columns]"
      ]
     },
     "execution_count": 154,
     "metadata": {},
     "output_type": "execute_result"
    }
   ],
   "source": [
    "mydata.head()"
   ]
  },
  {
   "cell_type": "code",
   "execution_count": 155,
   "metadata": {},
   "outputs": [],
   "source": [
    "mydata_final = pd.melt(mydata)\n",
    "mydata_final = mydata_final[:-1]\n"
   ]
  },
  {
   "cell_type": "code",
   "execution_count": 156,
   "metadata": {},
   "outputs": [],
   "source": [
    "mydata_final['percentage'] = mydata_final['value'] * 100"
   ]
  },
  {
   "cell_type": "code",
   "execution_count": 157,
   "metadata": {},
   "outputs": [
    {
     "data": {
      "text/html": [
       "<div>\n",
       "<style>\n",
       "    .dataframe thead tr:only-child th {\n",
       "        text-align: right;\n",
       "    }\n",
       "\n",
       "    .dataframe thead th {\n",
       "        text-align: left;\n",
       "    }\n",
       "\n",
       "    .dataframe tbody tr th {\n",
       "        vertical-align: top;\n",
       "    }\n",
       "</style>\n",
       "<table border=\"1\" class=\"dataframe\">\n",
       "  <thead>\n",
       "    <tr style=\"text-align: right;\">\n",
       "      <th></th>\n",
       "      <th>variable</th>\n",
       "      <th>value</th>\n",
       "      <th>percentage</th>\n",
       "      <th>Subject</th>\n",
       "    </tr>\n",
       "  </thead>\n",
       "  <tbody>\n",
       "    <tr>\n",
       "      <th>0</th>\n",
       "      <td>result_2011_0001</td>\n",
       "      <td>0.000</td>\n",
       "      <td>0.0</td>\n",
       "      <td>p1</td>\n",
       "    </tr>\n",
       "    <tr>\n",
       "      <th>1</th>\n",
       "      <td>result_2011_0002</td>\n",
       "      <td>0.143</td>\n",
       "      <td>14.3</td>\n",
       "      <td>p1</td>\n",
       "    </tr>\n",
       "    <tr>\n",
       "      <th>2</th>\n",
       "      <td>result_2011_0003</td>\n",
       "      <td>0.000</td>\n",
       "      <td>0.0</td>\n",
       "      <td>p1</td>\n",
       "    </tr>\n",
       "    <tr>\n",
       "      <th>3</th>\n",
       "      <td>result_2011_0004</td>\n",
       "      <td>0.000</td>\n",
       "      <td>0.0</td>\n",
       "      <td>p1</td>\n",
       "    </tr>\n",
       "    <tr>\n",
       "      <th>4</th>\n",
       "      <td>result_2011_0005</td>\n",
       "      <td>0.000</td>\n",
       "      <td>0.0</td>\n",
       "      <td>p1</td>\n",
       "    </tr>\n",
       "  </tbody>\n",
       "</table>\n",
       "</div>"
      ],
      "text/plain": [
       "           variable  value  percentage Subject\n",
       "0  result_2011_0001  0.000         0.0      p1\n",
       "1  result_2011_0002  0.143        14.3      p1\n",
       "2  result_2011_0003  0.000         0.0      p1\n",
       "3  result_2011_0004  0.000         0.0      p1\n",
       "4  result_2011_0005  0.000         0.0      p1"
      ]
     },
     "execution_count": 157,
     "metadata": {},
     "output_type": "execute_result"
    }
   ],
   "source": [
    "n = 'p1'\n",
    "mydata_final['Subject'] = n\n",
    "mydata_final.head()"
   ]
  },
  {
   "cell_type": "code",
   "execution_count": 158,
   "metadata": {},
   "outputs": [],
   "source": [
    "#my_pupil_data = pd.read_csv(\"../experiments/nancy_sus/preprocessing/p1.csv\")\n",
    "\n",
    "#my_pupil_data.head()\n",
    "#print(mydata_final['Subject'][0])"
   ]
  },
  {
   "cell_type": "code",
   "execution_count": 159,
   "metadata": {},
   "outputs": [],
   "source": [
    "#search = mydata_final.variable.str.slice(12,17)\n",
    "#for idx,value in enumerate(search):\n",
    "#    results = my_pupil_data[my_pupil_data.STIMULI.str.contains(str(value))]\n",
    "#    if not results.empty:\n",
    "#        result = results.iloc[0]\n",
    "#        system = results.SYSTEMS\n",
    "        #mydata_final['SYSTEM'][idx] = system\n",
    "#        df.iloc[idx].SYSTEM = system\n",
    "        "
   ]
  },
  {
   "cell_type": "code",
   "execution_count": 160,
   "metadata": {},
   "outputs": [],
   "source": [
    "with open(\"../data/nancy_sus/mappings.txt\") as map:\n",
    "        mappings = map.readlines()\n",
    "        mappings = [y.strip() for y in mappings]"
   ]
  },
  {
   "cell_type": "code",
   "execution_count": 161,
   "metadata": {},
   "outputs": [],
   "source": [
    "for idx,perm in enumerate(mappings):\n",
    "            if n in perm:\n",
    "                permutation = mappings[idx]\n",
    "                perm = permutation.split(\" \")\n",
    "                perm_num = int(perm[1])\n",
    "                correct_file = perm[2]\n",
    "                systems = perm[3]\n",
    "                systems = eval(systems)\n",
    "\n",
    "\n",
    "\n"
   ]
  },
  {
   "cell_type": "code",
   "execution_count": 162,
   "metadata": {},
   "outputs": [],
   "source": [
    "nTrials = len(mydata_final)/len(systems)\n",
    "system_trials = []\n",
    "for system in systems:\n",
    "    for i in range(0,int(nTrials)):\n",
    "        system_trials.append(system.strip())  \n",
    "\n",
    "mydata_final['System'] = system_trials"
   ]
  },
  {
   "cell_type": "code",
   "execution_count": 168,
   "metadata": {},
   "outputs": [
    {
     "data": {
      "text/html": [
       "<div>\n",
       "<style>\n",
       "    .dataframe thead tr:only-child th {\n",
       "        text-align: right;\n",
       "    }\n",
       "\n",
       "    .dataframe thead th {\n",
       "        text-align: left;\n",
       "    }\n",
       "\n",
       "    .dataframe tbody tr th {\n",
       "        vertical-align: top;\n",
       "    }\n",
       "</style>\n",
       "<table border=\"1\" class=\"dataframe\">\n",
       "  <thead>\n",
       "    <tr style=\"text-align: right;\">\n",
       "      <th></th>\n",
       "      <th>Stimuli</th>\n",
       "      <th>WER</th>\n",
       "      <th>WER_%</th>\n",
       "      <th>Subject</th>\n",
       "      <th>System</th>\n",
       "    </tr>\n",
       "  </thead>\n",
       "  <tbody>\n",
       "    <tr>\n",
       "      <th>0</th>\n",
       "      <td>result_2011_0001</td>\n",
       "      <td>0.000</td>\n",
       "      <td>0.0</td>\n",
       "      <td>p1</td>\n",
       "      <td>I</td>\n",
       "    </tr>\n",
       "    <tr>\n",
       "      <th>1</th>\n",
       "      <td>result_2011_0002</td>\n",
       "      <td>0.143</td>\n",
       "      <td>14.3</td>\n",
       "      <td>p1</td>\n",
       "      <td>I</td>\n",
       "    </tr>\n",
       "    <tr>\n",
       "      <th>2</th>\n",
       "      <td>result_2011_0003</td>\n",
       "      <td>0.000</td>\n",
       "      <td>0.0</td>\n",
       "      <td>p1</td>\n",
       "      <td>I</td>\n",
       "    </tr>\n",
       "    <tr>\n",
       "      <th>3</th>\n",
       "      <td>result_2011_0004</td>\n",
       "      <td>0.000</td>\n",
       "      <td>0.0</td>\n",
       "      <td>p1</td>\n",
       "      <td>I</td>\n",
       "    </tr>\n",
       "    <tr>\n",
       "      <th>4</th>\n",
       "      <td>result_2011_0005</td>\n",
       "      <td>0.000</td>\n",
       "      <td>0.0</td>\n",
       "      <td>p1</td>\n",
       "      <td>I</td>\n",
       "    </tr>\n",
       "  </tbody>\n",
       "</table>\n",
       "</div>"
      ],
      "text/plain": [
       "            Stimuli    WER  WER_% Subject System\n",
       "0  result_2011_0001  0.000    0.0      p1      I\n",
       "1  result_2011_0002  0.143   14.3      p1      I\n",
       "2  result_2011_0003  0.000    0.0      p1      I\n",
       "3  result_2011_0004  0.000    0.0      p1      I\n",
       "4  result_2011_0005  0.000    0.0      p1      I"
      ]
     },
     "execution_count": 168,
     "metadata": {},
     "output_type": "execute_result"
    }
   ],
   "source": [
    "mydata_final.head()"
   ]
  },
  {
   "cell_type": "code",
   "execution_count": 164,
   "metadata": {
    "collapsed": true
   },
   "outputs": [],
   "source": [
    "mydata_final.rename(columns={'variable': 'Stimuli', 'value': 'WER','percentage':'WER_%'}, inplace=True)\n"
   ]
  },
  {
   "cell_type": "code",
   "execution_count": 165,
   "metadata": {},
   "outputs": [
    {
     "data": {
      "text/html": [
       "<div>\n",
       "<style>\n",
       "    .dataframe thead tr:only-child th {\n",
       "        text-align: right;\n",
       "    }\n",
       "\n",
       "    .dataframe thead th {\n",
       "        text-align: left;\n",
       "    }\n",
       "\n",
       "    .dataframe tbody tr th {\n",
       "        vertical-align: top;\n",
       "    }\n",
       "</style>\n",
       "<table border=\"1\" class=\"dataframe\">\n",
       "  <thead>\n",
       "    <tr style=\"text-align: right;\">\n",
       "      <th></th>\n",
       "      <th>Stimuli</th>\n",
       "      <th>WER</th>\n",
       "      <th>WER_%</th>\n",
       "      <th>Subject</th>\n",
       "      <th>System</th>\n",
       "    </tr>\n",
       "  </thead>\n",
       "  <tbody>\n",
       "    <tr>\n",
       "      <th>95</th>\n",
       "      <td>result_2011_0091</td>\n",
       "      <td>0.0</td>\n",
       "      <td>0.0</td>\n",
       "      <td>p1</td>\n",
       "      <td>E</td>\n",
       "    </tr>\n",
       "    <tr>\n",
       "      <th>96</th>\n",
       "      <td>result_2011_0089</td>\n",
       "      <td>0.0</td>\n",
       "      <td>0.0</td>\n",
       "      <td>p1</td>\n",
       "      <td>E</td>\n",
       "    </tr>\n",
       "    <tr>\n",
       "      <th>97</th>\n",
       "      <td>result_2011_0093</td>\n",
       "      <td>0.0</td>\n",
       "      <td>0.0</td>\n",
       "      <td>p1</td>\n",
       "      <td>E</td>\n",
       "    </tr>\n",
       "    <tr>\n",
       "      <th>98</th>\n",
       "      <td>result_2011_0099</td>\n",
       "      <td>0.0</td>\n",
       "      <td>0.0</td>\n",
       "      <td>p1</td>\n",
       "      <td>E</td>\n",
       "    </tr>\n",
       "    <tr>\n",
       "      <th>99</th>\n",
       "      <td>result_2011_0097</td>\n",
       "      <td>0.0</td>\n",
       "      <td>0.0</td>\n",
       "      <td>p1</td>\n",
       "      <td>E</td>\n",
       "    </tr>\n",
       "  </tbody>\n",
       "</table>\n",
       "</div>"
      ],
      "text/plain": [
       "             Stimuli  WER  WER_% Subject System\n",
       "95  result_2011_0091  0.0    0.0      p1      E\n",
       "96  result_2011_0089  0.0    0.0      p1      E\n",
       "97  result_2011_0093  0.0    0.0      p1      E\n",
       "98  result_2011_0099  0.0    0.0      p1      E\n",
       "99  result_2011_0097  0.0    0.0      p1      E"
      ]
     },
     "execution_count": 165,
     "metadata": {},
     "output_type": "execute_result"
    }
   ],
   "source": []
  },
  {
   "cell_type": "code",
   "execution_count": 167,
   "metadata": {},
   "outputs": [],
   "source": [
    "csv_filename ='test.csv'\n",
    "mydata_final.to_csv(csv_filename, encoding='utf-8', index=False)"
   ]
  },
  {
   "cell_type": "code",
   "execution_count": 203,
   "metadata": {},
   "outputs": [
    {
     "data": {
      "text/plain": [
       "'p1 2 16 18 41 54 59 63 88 '"
      ]
     },
     "execution_count": 203,
     "metadata": {},
     "output_type": "execute_result"
    }
   ],
   "source": [
    "threshold=20\n",
    "exclusions = mydata_final[mydata_final['WER_%'] > 10]\n",
    "exclusion_list = exclusions.index.tolist()\n",
    "excluded_trials = n + \" \"\n",
    "for trial in exclusion_list:\n",
    "    trial_index = trial + 1\n",
    "    excluded_trials = excluded_trials + str(trial_index) + \" \" \n",
    "\n",
    "#exclusion_list.append[excluded_trial]\n",
    "excluded_trials\n",
    "#exclusion_list"
   ]
  },
  {
   "cell_type": "code",
   "execution_count": 204,
   "metadata": {
    "collapsed": true
   },
   "outputs": [],
   "source": [
    "with open(\"../experiments/nancy_sus/preprocessing/exclude.txt\") as exl:\n",
    "        excluded = exl.readlines()\n",
    "        excluded = [y.strip() for y in excluded]"
   ]
  },
  {
   "cell_type": "code",
   "execution_count": 205,
   "metadata": {},
   "outputs": [
    {
     "data": {
      "text/plain": [
       "['p1#2 16 18 41 54 59 63 88',\n",
       " 'p2#',\n",
       " 'p3#7 11 12 13 30 32 36 40 41 45 46 47 54 56 58 59 62 63 65 68 73 76 77 80 84 89 96 98']"
      ]
     },
     "execution_count": 205,
     "metadata": {},
     "output_type": "execute_result"
    }
   ],
   "source": [
    "excluded"
   ]
  },
  {
   "cell_type": "code",
   "execution_count": 208,
   "metadata": {},
   "outputs": [],
   "source": [
    "exclude_trials = ''\n",
    "for idx,lists in enumerate(excluded):\n",
    "    if n in lists:\n",
    "        exclude = excluded[idx]\n",
    "        exclude_trials = exclude.split(\"#\")\n",
    "        exclude_trials = exclude_trials[1]"
   ]
  },
  {
   "cell_type": "code",
   "execution_count": 209,
   "metadata": {},
   "outputs": [
    {
     "data": {
      "text/plain": [
       "'2 16 18 41 54 59 63 88'"
      ]
     },
     "execution_count": 209,
     "metadata": {},
     "output_type": "execute_result"
    }
   ],
   "source": [
    "exclude_trials"
   ]
  },
  {
   "cell_type": "code",
   "execution_count": 214,
   "metadata": {},
   "outputs": [],
   "source": [
    "trial_index = 59\n",
    "if str(trial_index) not in exclude_trials:\n",
    "    print(\"Not excluded\")"
   ]
  },
  {
   "cell_type": "code",
   "execution_count": null,
   "metadata": {
    "collapsed": true
   },
   "outputs": [],
   "source": []
  }
 ],
 "metadata": {
  "kernelspec": {
   "display_name": "Python 3",
   "language": "python",
   "name": "python3"
  },
  "language_info": {
   "codemirror_mode": {
    "name": "ipython",
    "version": 3
   },
   "file_extension": ".py",
   "mimetype": "text/x-python",
   "name": "python",
   "nbconvert_exporter": "python",
   "pygments_lexer": "ipython3",
   "version": "3.6.1"
  }
 },
 "nbformat": 4,
 "nbformat_minor": 2
}
