{
 "cells": [
  {
   "cell_type": "code",
   "execution_count": 82,
   "metadata": {
    "collapsed": true
   },
   "outputs": [],
   "source": [
    "import numpy as np\n",
    "import pandas as pd\n",
    "%matplotlib inline\n",
    "import seaborn as sns\n",
    "import matplotlib.pyplot as plt\n",
    "\n",
    "actual_baseline = 2\n",
    "true_baseline = 1\n",
    "#NB: make sure to pass the right sampling frequency, check downsample flag and if TRUE use downsampleFreq\n",
    "\n",
    "\n",
    "sampling_freq = 50 \n",
    "moving_average_window = 10\n"
   ]
  },
  {
   "cell_type": "code",
   "execution_count": 52,
   "metadata": {
    "collapsed": true
   },
   "outputs": [],
   "source": [
    "pupil_data = pd.read_csv(\"../experiments/nancy_sus/deblinking/p1.csv\", usecols=['TRIAL_INDEX','PUPIL_SIZE','STIMULI','SYSTEMS','BLOCKS','SUBJECT'])"
   ]
  },
  {
   "cell_type": "code",
   "execution_count": 53,
   "metadata": {},
   "outputs": [
    {
     "data": {
      "text/html": [
       "<div>\n",
       "<style>\n",
       "    .dataframe thead tr:only-child th {\n",
       "        text-align: right;\n",
       "    }\n",
       "\n",
       "    .dataframe thead th {\n",
       "        text-align: left;\n",
       "    }\n",
       "\n",
       "    .dataframe tbody tr th {\n",
       "        vertical-align: top;\n",
       "    }\n",
       "</style>\n",
       "<table border=\"1\" class=\"dataframe\">\n",
       "  <thead>\n",
       "    <tr style=\"text-align: right;\">\n",
       "      <th></th>\n",
       "      <th>TRIAL_INDEX</th>\n",
       "      <th>PUPIL_SIZE</th>\n",
       "      <th>STIMULI</th>\n",
       "      <th>SYSTEMS</th>\n",
       "      <th>BLOCKS</th>\n",
       "      <th>SUBJECT</th>\n",
       "    </tr>\n",
       "  </thead>\n",
       "  <tbody>\n",
       "    <tr>\n",
       "      <th>0</th>\n",
       "      <td>6</td>\n",
       "      <td>266.0</td>\n",
       "      <td>sus_2011_0016_I.wav</td>\n",
       "      <td>I</td>\n",
       "      <td>1</td>\n",
       "      <td>p1</td>\n",
       "    </tr>\n",
       "    <tr>\n",
       "      <th>1</th>\n",
       "      <td>6</td>\n",
       "      <td>273.0</td>\n",
       "      <td>sus_2011_0016_I.wav</td>\n",
       "      <td>I</td>\n",
       "      <td>1</td>\n",
       "      <td>p1</td>\n",
       "    </tr>\n",
       "    <tr>\n",
       "      <th>2</th>\n",
       "      <td>6</td>\n",
       "      <td>271.0</td>\n",
       "      <td>sus_2011_0016_I.wav</td>\n",
       "      <td>I</td>\n",
       "      <td>1</td>\n",
       "      <td>p1</td>\n",
       "    </tr>\n",
       "    <tr>\n",
       "      <th>3</th>\n",
       "      <td>6</td>\n",
       "      <td>269.0</td>\n",
       "      <td>sus_2011_0016_I.wav</td>\n",
       "      <td>I</td>\n",
       "      <td>1</td>\n",
       "      <td>p1</td>\n",
       "    </tr>\n",
       "    <tr>\n",
       "      <th>4</th>\n",
       "      <td>6</td>\n",
       "      <td>266.0</td>\n",
       "      <td>sus_2011_0016_I.wav</td>\n",
       "      <td>I</td>\n",
       "      <td>1</td>\n",
       "      <td>p1</td>\n",
       "    </tr>\n",
       "  </tbody>\n",
       "</table>\n",
       "</div>"
      ],
      "text/plain": [
       "   TRIAL_INDEX  PUPIL_SIZE              STIMULI SYSTEMS  BLOCKS SUBJECT\n",
       "0            6       266.0  sus_2011_0016_I.wav       I       1      p1\n",
       "1            6       273.0  sus_2011_0016_I.wav       I       1      p1\n",
       "2            6       271.0  sus_2011_0016_I.wav       I       1      p1\n",
       "3            6       269.0  sus_2011_0016_I.wav       I       1      p1\n",
       "4            6       266.0  sus_2011_0016_I.wav       I       1      p1"
      ]
     },
     "execution_count": 53,
     "metadata": {},
     "output_type": "execute_result"
    }
   ],
   "source": [
    "pupil_data.head()\n"
   ]
  },
  {
   "cell_type": "code",
   "execution_count": 54,
   "metadata": {
    "collapsed": true
   },
   "outputs": [],
   "source": [
    "trials = pupil_data.TRIAL_INDEX.unique()\n",
    "#for trial_index in trials:\n",
    "#    single_data_trial = all_pupil_data[all_pupil_data['TRIAL_INDEX'] == trial_index].copy()\n",
    "#    baseline_correction(single_data_trial.PUPIL_SIZE)\n",
    "#    smoothing(single_data_trial.PUPIL_SIZE)"
   ]
  },
  {
   "cell_type": "code",
   "execution_count": 125,
   "metadata": {},
   "outputs": [],
   "source": [
    "single_data_trial = pupil_data[pupil_data['TRIAL_INDEX'] == 8].copy()\n",
    "single_data_trial['SAMPLE_INDEX'] = list(range(1,len(single_data_trial)+1))\n",
    "\n",
    "if actual_baseline != true_baseline:\n",
    "    remove_samples = int(sampling_freq*(actual_baseline-true_baseline))\n",
    "    single_data_trial.drop(single_data_trial.index[:remove_samples], inplace=True)\n",
    "\n",
    "baseline_samples_n = sampling_freq*true_baseline + 1"
   ]
  },
  {
   "cell_type": "code",
   "execution_count": 127,
   "metadata": {},
   "outputs": [
    {
     "data": {
      "image/png": "[encoded data removed]",
      "text/plain": [
       "<matplotlib.figure.Figure at 0x11892ae48>"
      ]
     },
     "metadata": {},
     "output_type": "display_data"
    }
   ],
   "source": [
    "baseline = single_data_trial.PUPIL_SIZE[:baseline_samples_n]\n",
    "mean_baseline = np.mean(baseline)\n",
    "corrected_pupil_size = ((single_data_trial.PUPIL_SIZE - mean_baseline)/mean_baseline)*100\n",
    "smoothing = corrected_pupil_size.rolling(window=20).mean()\n",
    "values = [i for i in range(sampling_freq,len(corrected_pupil_size)+sampling_freq) if i % sampling_freq == 0]\n",
    "corrected_pupil_size.plot(color='C0', xticks=values, use_index=False)\n",
    "smoothing.plot(color='C2', xticks=values,use_index=False )\n",
    "figure_name = \"trial_6_corrected_smoothed\"\n",
    "plt.savefig(figure_name)\n",
    "\n",
    "single_data_trial['CORRECTED'] = corrected_pupil_size\n",
    "single_data_trial['SMOOTHED'] = smoothing"
   ]
  },
  {
   "cell_type": "code",
   "execution_count": 94,
   "metadata": {},
   "outputs": [
    {
     "data": {
      "text/html": [
       "<div>\n",
       "<style>\n",
       "    .dataframe thead tr:only-child th {\n",
       "        text-align: right;\n",
       "    }\n",
       "\n",
       "    .dataframe thead th {\n",
       "        text-align: left;\n",
       "    }\n",
       "\n",
       "    .dataframe tbody tr th {\n",
       "        vertical-align: top;\n",
       "    }\n",
       "</style>\n",
       "<table border=\"1\" class=\"dataframe\">\n",
       "  <thead>\n",
       "    <tr style=\"text-align: right;\">\n",
       "      <th></th>\n",
       "      <th>TRIAL_INDEX</th>\n",
       "      <th>PUPIL_SIZE</th>\n",
       "      <th>STIMULI</th>\n",
       "      <th>SYSTEMS</th>\n",
       "      <th>BLOCKS</th>\n",
       "      <th>SUBJECT</th>\n",
       "      <th>SAMPLE_INDEX</th>\n",
       "      <th>corrected</th>\n",
       "      <th>smoothed</th>\n",
       "      <th>CORRECTED</th>\n",
       "      <th>SMOOTHED</th>\n",
       "    </tr>\n",
       "  </thead>\n",
       "  <tbody>\n",
       "    <tr>\n",
       "      <th>374</th>\n",
       "      <td>6</td>\n",
       "      <td>278.0</td>\n",
       "      <td>sus_2011_0016_I.wav</td>\n",
       "      <td>I</td>\n",
       "      <td>1</td>\n",
       "      <td>p1</td>\n",
       "      <td>375</td>\n",
       "      <td>3.422682</td>\n",
       "      <td>1.934586</td>\n",
       "      <td>3.422682</td>\n",
       "      <td>1.934586</td>\n",
       "    </tr>\n",
       "    <tr>\n",
       "      <th>375</th>\n",
       "      <td>6</td>\n",
       "      <td>278.0</td>\n",
       "      <td>sus_2011_0016_I.wav</td>\n",
       "      <td>I</td>\n",
       "      <td>1</td>\n",
       "      <td>p1</td>\n",
       "      <td>376</td>\n",
       "      <td>3.422682</td>\n",
       "      <td>2.269407</td>\n",
       "      <td>3.422682</td>\n",
       "      <td>2.269407</td>\n",
       "    </tr>\n",
       "    <tr>\n",
       "      <th>376</th>\n",
       "      <td>6</td>\n",
       "      <td>279.0</td>\n",
       "      <td>sus_2011_0016_I.wav</td>\n",
       "      <td>I</td>\n",
       "      <td>1</td>\n",
       "      <td>p1</td>\n",
       "      <td>377</td>\n",
       "      <td>3.794706</td>\n",
       "      <td>2.604229</td>\n",
       "      <td>3.794706</td>\n",
       "      <td>2.604229</td>\n",
       "    </tr>\n",
       "    <tr>\n",
       "      <th>377</th>\n",
       "      <td>6</td>\n",
       "      <td>280.0</td>\n",
       "      <td>sus_2011_0016_I.wav</td>\n",
       "      <td>I</td>\n",
       "      <td>1</td>\n",
       "      <td>p1</td>\n",
       "      <td>378</td>\n",
       "      <td>4.166730</td>\n",
       "      <td>2.864646</td>\n",
       "      <td>4.166730</td>\n",
       "      <td>2.864646</td>\n",
       "    </tr>\n",
       "    <tr>\n",
       "      <th>378</th>\n",
       "      <td>6</td>\n",
       "      <td>279.0</td>\n",
       "      <td>sus_2011_0016_I.wav</td>\n",
       "      <td>I</td>\n",
       "      <td>1</td>\n",
       "      <td>p1</td>\n",
       "      <td>379</td>\n",
       "      <td>3.794706</td>\n",
       "      <td>3.050658</td>\n",
       "      <td>3.794706</td>\n",
       "      <td>3.050658</td>\n",
       "    </tr>\n",
       "  </tbody>\n",
       "</table>\n",
       "</div>"
      ],
      "text/plain": [
       "     TRIAL_INDEX  PUPIL_SIZE              STIMULI SYSTEMS  BLOCKS SUBJECT  \\\n",
       "374            6       278.0  sus_2011_0016_I.wav       I       1      p1   \n",
       "375            6       278.0  sus_2011_0016_I.wav       I       1      p1   \n",
       "376            6       279.0  sus_2011_0016_I.wav       I       1      p1   \n",
       "377            6       280.0  sus_2011_0016_I.wav       I       1      p1   \n",
       "378            6       279.0  sus_2011_0016_I.wav       I       1      p1   \n",
       "\n",
       "     SAMPLE_INDEX  corrected  smoothed  CORRECTED  SMOOTHED  \n",
       "374           375   3.422682  1.934586   3.422682  1.934586  \n",
       "375           376   3.422682  2.269407   3.422682  2.269407  \n",
       "376           377   3.794706  2.604229   3.794706  2.604229  \n",
       "377           378   4.166730  2.864646   4.166730  2.864646  \n",
       "378           379   3.794706  3.050658   3.794706  3.050658  "
      ]
     },
     "execution_count": 94,
     "metadata": {},
     "output_type": "execute_result"
    }
   ],
   "source": [
    "single_data_trial.tail()"
   ]
  },
  {
   "cell_type": "code",
   "execution_count": 124,
   "metadata": {
    "collapsed": true
   },
   "outputs": [],
   "source": [
    "smoothing.plot?"
   ]
  },
  {
   "cell_type": "code",
   "execution_count": 122,
   "metadata": {},
   "outputs": [
    {
     "data": {
      "text/plain": [
       "[50, 100, 150, 200, 250, 300, 350]"
      ]
     },
     "execution_count": 122,
     "metadata": {},
     "output_type": "execute_result"
    }
   ],
   "source": [
    "values = [i for i in range(sampling_freq,len(corrected_pupil_size)+sampling_freq) if i % sampling_freq == 0]\n",
    "values\n"
   ]
  },
  {
   "cell_type": "code",
   "execution_count": 121,
   "metadata": {},
   "outputs": [
    {
     "data": {
      "text/plain": [
       "379"
      ]
     },
     "execution_count": 121,
     "metadata": {},
     "output_type": "execute_result"
    }
   ],
   "source": [
    "len(corrected_pupil_size)+sampling_freq"
   ]
  },
  {
   "cell_type": "code",
   "execution_count": null,
   "metadata": {
    "collapsed": true
   },
   "outputs": [],
   "source": []
  }
 ],
 "metadata": {
  "kernelspec": {
   "display_name": "Python 3",
   "language": "python",
   "name": "python3"
  },
  "language_info": {
   "codemirror_mode": {
    "name": "ipython",
    "version": 3
   },
   "file_extension": ".py",
   "mimetype": "text/x-python",
   "name": "python",
   "nbconvert_exporter": "python",
   "pygments_lexer": "ipython3",
   "version": "3.6.1"
  }
 },
 "nbformat": 4,
 "nbformat_minor": 2
}
